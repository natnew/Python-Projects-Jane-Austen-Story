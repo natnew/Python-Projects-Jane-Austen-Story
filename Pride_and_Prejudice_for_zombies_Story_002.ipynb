{
  "nbformat": 4,
  "nbformat_minor": 0,
  "metadata": {
    "colab": {
      "name": "Pride and Prejudice for zombies Story 002.ipynb",
      "provenance": [],
      "authorship_tag": "ABX9TyOCz3BMyG2Hgyu5mB9s2ScK",
      "include_colab_link": true
    },
    "kernelspec": {
      "name": "python3",
      "display_name": "Python 3"
    },
    "language_info": {
      "name": "python"
    }
  },
  "cells": [
    {
      "cell_type": "markdown",
      "metadata": {
        "id": "view-in-github",
        "colab_type": "text"
      },
      "source": [
        "<a href=\"https://colab.research.google.com/github/natnew/Python-Projects-Jane-Austen-Story/blob/main/Pride_and_Prejudice_for_zombies_Story_002.ipynb\" target=\"_parent\"><img src=\"https://colab.research.google.com/assets/colab-badge.svg\" alt=\"Open In Colab\"/></a>"
      ]
    },
    {
      "cell_type": "code",
      "metadata": {
        "id": "sMe7XbTtSVUF"
      },
      "source": [
        "import re\n",
        "from random import choice\n",
        "import requests\n",
        "\n",
        "url = \"https://www.gutenberg.org/files/1342/1342-0.txt\"\n",
        "r = requests.get(url)\n",
        "text = r.text\n",
        "\n",
        "def change_prose(text):\n",
        "    plural_nouns = ['ladies', 'gentlemen', 'women', 'men', 'children', 'boys', 'girls']\n",
        "\n",
        "    singular_nouns = ['son', 'daughter', 'child','wife', 'woman', 'mrs', 'miss','husband', 'man', 'mr', 'sir', 'lady']\n",
        "\n",
        "    speaking = ['said', 'replied', 'spoke', 'shouted', 'cried']\n",
        "    zombie_sounds = ['groaned', 'moaned' ,'growled', 'screamed', 'gurgled']\n",
        "\n",
        "    plural_nouns = plural_nouns + [word.title() for word in plural_nouns]\n",
        "    singular_nouns = singular_nouns + [word.title() for word in singular_nouns]\n",
        "\n",
        "\n",
        "    for word in plural_nouns:\n",
        "        text = re.sub(r'\\b{0}\\b'.format(word), 'zombies', text)\n",
        "    for word in singular_nouns:\n",
        "        text = re.sub(r'\\b{0}\\b'.format(word), 'zombie', text)\n",
        "    for word in speaking:\n",
        "        text = re.sub(r'\\b{0}\\b'.format(word), choice(zombie_sounds), text)\n",
        "    return(text)\n",
        "\n",
        "text = change_prose(text)\n",
        "\n",
        "with open('Zombie.txt', 'w', encoding=\"utf-8\") as f:\n",
        "    f.write(text)"
      ],
      "execution_count": 1,
      "outputs": []
    }
  ]
}